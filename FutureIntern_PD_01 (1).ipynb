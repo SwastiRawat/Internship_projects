{
  "nbformat": 4,
  "nbformat_minor": 0,
  "metadata": {
    "colab": {
      "provenance": []
    },
    "kernelspec": {
      "name": "python3",
      "display_name": "Python 3"
    },
    "language_info": {
      "name": "python"
    }
  },
  "cells": [
    {
      "cell_type": "code",
      "execution_count": null,
      "metadata": {
        "colab": {
          "base_uri": "https://localhost:8080/"
        },
        "id": "7VgMZ7g4N-4k",
        "outputId": "1d7e1047-fe7c-4bce-ce3e-17795de6be03"
      },
      "outputs": [
        {
          "output_type": "stream",
          "name": "stdout",
          "text": [
            "Rules to win Rock-Paper-Scissor are :\n",
            "Rock vs Paper -> Paper wins \n",
            "Rock vs Scissor -> Rock wins \n",
            " Paper vs Scissor -> Scissor wins \n",
            " \n",
            "Enter your choice \n",
            " 1:Rock \n",
            " 2:Paper\n",
            " 3:Scissor\n",
            "\n",
            "Enter your choice :1\n",
            "User choice is \n",
            " Rock\n",
            "Now its Computers Turn\n",
            "Computer choice is \n",
            " Scissor\n",
            "Rock VS Scissor\n",
            "Rock wins=><==User wins ==>\n",
            "Do you want to play again?(Y/N)\n",
            "n\n",
            "\n",
            "Thanks for playing\n"
          ]
        }
      ],
      "source": [
        "import random\n",
        "print('Rules to win Rock-Paper-Scissor are :\\n'\n",
        "      \"Rock vs Paper -> Paper wins \\n\"\n",
        "      \"Rock vs Scissor -> Rock wins \\n \"\n",
        "      \"Paper vs Scissor -> Scissor wins \\n \")\n",
        "while True:\n",
        "    print(\"Enter your choice \\n 1:Rock \\n 2:Paper\\n 3:Scissor\\n\")\n",
        "    choice = int(input(\"Enter your choice :\"))\n",
        "\n",
        "    while  choice > 3 or choice < 1:\n",
        "           choice = int(input(\"Enter the valid choice : \"))\n",
        "\n",
        "    if choice == 1:\n",
        "        choice_name = 'Rock'\n",
        "    elif choice == 2:\n",
        "        choice_name = 'Paper'\n",
        "    else:\n",
        "        choice_name = 'Scissor'\n",
        "    print('User choice is \\n',choice_name)\n",
        "\n",
        "    print('Now its Computers Turn')\n",
        "    comp_choice = random.randint(1,3)\n",
        "    while comp_choice == choice:\n",
        "           comp_choice = random.randint(1,3)\n",
        "    if comp_choice == 1:\n",
        "        comp_choice_name = 'Rock'\n",
        "    elif comp_choice == 2:\n",
        "         comp_choice_name = 'Paper'\n",
        "    else:\n",
        "        comp_choice_name = 'Scissor'\n",
        "    print(\"Computer choice is \\n\",comp_choice_name)\n",
        "    print(choice_name,'VS', comp_choice_name)\n",
        "    if choice == comp_choice:\n",
        "        print('Its a DRAW',end=\"\")\n",
        "        result=\"DRAW\"\n",
        "    if(choice==1 and comp_choice==2):\n",
        "        print('Paper wins=>',end=\"\")\n",
        "        result='Paper'\n",
        "    elif(choice==2 and comp_choice==1):\n",
        "           print('Paper wins=>',end=\"\")\n",
        "           result='Paper'\n",
        "    if(choice==1 and comp_choice==3):\n",
        "         print('Rock wins=>',end=\"\")\n",
        "         result='Rock'\n",
        "    elif(choice==3 and comp_choice==1):\n",
        "           print('Rock wins=>',end=\"\")\n",
        "           result='Rock'\n",
        "    if(choice==2 and comp_choice==3):\n",
        "         print('Scissor wins=>',end=\"\")\n",
        "         result='Scissor'\n",
        "    elif(choice==3 and comp_choice==2):\n",
        "          print('Scissor wins=>',end=\"\")\n",
        "          result='Scissor'\n",
        "    if result == 'DRAW':\n",
        "       print(\"<==its a TIE ==> \")\n",
        "\n",
        "    if result == choice_name:\n",
        "       print (\"<==User wins ==>\")\n",
        "\n",
        "    else:\n",
        "      print(\"<==Computer Wins==>\")\n",
        "    print(\"Do you want to play again?(Y/N)\")\n",
        "    ans = input()\n",
        "    if ans == 'n' or ans == 'N':\n",
        "       break\n",
        "print(\"\\nThanks for playing\")"
      ]
    }
  ]
}